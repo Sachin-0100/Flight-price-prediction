{
  "nbformat": 4,
  "nbformat_minor": 0,
  "metadata": {
    "colab": {
      "private_outputs": true,
      "provenance": []
    },
    "kernelspec": {
      "name": "python3",
      "display_name": "Python 3"
    },
    "language_info": {
      "name": "python"
    }
  },
  "cells": [
    {
      "cell_type": "code",
      "execution_count": null,
      "metadata": {
        "id": "pfhK5jojaWFN"
      },
      "outputs": [],
      "source": [
        "import numpy as np\n",
        "import pandas as pd\n",
        "import matplotlib.pyplot as plt\n",
        "import seaborn as sns"
      ]
    },
    {
      "cell_type": "code",
      "source": [
        "df = pd.read_csv(\"/content/Flight_Booking.csv\")\n",
        "df.head(2)"
      ],
      "metadata": {
        "id": "0dB2A4B0aqVf"
      },
      "execution_count": null,
      "outputs": []
    },
    {
      "cell_type": "code",
      "source": [
        "df = df.drop('Unnamed: 0',axis = 1)\n",
        "df.head()"
      ],
      "metadata": {
        "id": "7FsmNKjvb6IX"
      },
      "execution_count": null,
      "outputs": []
    },
    {
      "cell_type": "code",
      "source": [
        "df.shape"
      ],
      "metadata": {
        "id": "8eDWHSK0cWYx"
      },
      "execution_count": null,
      "outputs": []
    },
    {
      "cell_type": "code",
      "source": [
        "df.info()"
      ],
      "metadata": {
        "id": "DzMs7N1PcMpP"
      },
      "execution_count": null,
      "outputs": []
    },
    {
      "cell_type": "code",
      "source": [
        "df.isnull().sum()"
      ],
      "metadata": {
        "id": "TGX7jY0LcFbR"
      },
      "execution_count": null,
      "outputs": []
    },
    {
      "cell_type": "code",
      "source": [
        "df.describe()"
      ],
      "metadata": {
        "id": "7YPzCJUGcLim"
      },
      "execution_count": null,
      "outputs": []
    },
    {
      "cell_type": "code",
      "source": [
        "df.corr()"
      ],
      "metadata": {
        "id": "-QBf1Gm3cUHf"
      },
      "execution_count": null,
      "outputs": []
    },
    {
      "cell_type": "code",
      "source": [
        "plt.figure(figsize=(10,6))\n",
        "sns.lineplot(y='price',x='airline',data=df,color= 'red')\n",
        "plt.xlabel('AIRLINE')\n",
        "plt.ylabel('PRICE')\n",
        "plt.title('AIRLINE VS PRICE')"
      ],
      "metadata": {
        "id": "m66FAqGhco9t"
      },
      "execution_count": null,
      "outputs": []
    },
    {
      "cell_type": "markdown",
      "source": [
        "- Vistara and Air india are coastly campared to other airlines"
      ],
      "metadata": {
        "id": "6tK5TlCcd-Ay"
      }
    },
    {
      "cell_type": "code",
      "source": [
        "plt.figure(figsize=(10,6))\n",
        "sns.lineplot(y='price',x='days_left',data=df,color= 'red')\n",
        "plt.xlabel('days_left')\n",
        "plt.ylabel('price')\n",
        "plt.title('price VS days_left')"
      ],
      "metadata": {
        "id": "4oqe6HbPdOjp"
      },
      "execution_count": null,
      "outputs": []
    },
    {
      "cell_type": "markdown",
      "source": [
        "- price will be high before 10 days of departure of airline \n",
        "- price will be low 30 - 50 days before the departure "
      ],
      "metadata": {
        "id": "3nVxIKwZfLsj"
      }
    },
    {
      "cell_type": "code",
      "source": [
        "df.airline.value_counts().plot(kind = 'bar',color = 'green')"
      ],
      "metadata": {
        "id": "VZL-pfIjezZy"
      },
      "execution_count": null,
      "outputs": []
    },
    {
      "cell_type": "markdown",
      "source": [
        "- Vistara has highest passengers compared to other flights \n",
        "- Spicejet has least passengers"
      ],
      "metadata": {
        "id": "m2n4IbcIh7Re"
      }
    },
    {
      "cell_type": "code",
      "source": [
        "plt.figure(figsize=(12,8))\n",
        "sns.barplot(x='class',y='price',hue='airline',data=df)"
      ],
      "metadata": {
        "id": "UrYxfkqt_H3R"
      },
      "execution_count": null,
      "outputs": []
    },
    {
      "cell_type": "markdown",
      "source": [
        "- people prefered business class more in Vistara and Air india airlines \n",
        "- price of business class is higher compared to economy class"
      ],
      "metadata": {
        "id": "Bdx-nI46k9Zg"
      }
    },
    {
      "cell_type": "code",
      "source": [
        "df['class'].value_counts()"
      ],
      "metadata": {
        "id": "_ZbIzWBhnHXJ"
      },
      "execution_count": null,
      "outputs": []
    },
    {
      "cell_type": "code",
      "source": [
        "df['stops'].value_counts()"
      ],
      "metadata": {
        "id": "EHjgnTOPnXVI"
      },
      "execution_count": null,
      "outputs": []
    },
    {
      "cell_type": "code",
      "source": [
        "directflight_businessclass = df[(df['class']== 'Business')&(df['stops']=='zero')]\n",
        "len(directflight_businessclass)"
      ],
      "metadata": {
        "id": "JUf6dMD9l-LR"
      },
      "execution_count": null,
      "outputs": []
    },
    {
      "cell_type": "markdown",
      "source": [
        "8102 people took direct flight in business class"
      ],
      "metadata": {
        "id": "u5dFyovun4ic"
      }
    },
    {
      "cell_type": "code",
      "source": [
        "df['source_city'].value_counts().plot(kind = 'bar',color = 'red')"
      ],
      "metadata": {
        "id": "q6oCtXoEnfUa"
      },
      "execution_count": null,
      "outputs": []
    },
    {
      "cell_type": "markdown",
      "source": [
        "- delhi has highest takeoff flight \n",
        "- whereas banglore has lowest takeoff flight"
      ],
      "metadata": {
        "id": "Q9Bf5UOo83c1"
      }
    },
    {
      "cell_type": "markdown",
      "source": [
        "## average price of all airlines from delhi to mumbai"
      ],
      "metadata": {
        "id": "qlMJIYmxBEI3"
      }
    },
    {
      "cell_type": "code",
      "source": [
        "df1=df.loc[(df[\"source_city\"]==\"Delhi\") & (df[\"destination_city\"]==\"Mumbai\")]"
      ],
      "metadata": {
        "id": "udZeJ2V2BDjH"
      },
      "execution_count": null,
      "outputs": []
    },
    {
      "cell_type": "code",
      "source": [
        "df1.mean()"
      ],
      "metadata": {
        "id": "bDMU56d4BLPA"
      },
      "execution_count": null,
      "outputs": []
    },
    {
      "cell_type": "markdown",
      "source": [
        "- Rs 19355.82 is average price from delhi to mumbai"
      ],
      "metadata": {
        "id": "Xky7RkiiBXjQ"
      }
    },
    {
      "cell_type": "code",
      "source": [
        "fig,ax= plt.subplots(1,2,figsize=(20,6))\n",
        "sns.barplot(x='source_city',y='price',data=df,ax=ax[0])\n",
        "sns.barplot(x='destination_city',y='price',data=df,ax=ax[1])"
      ],
      "metadata": {
        "id": "M6sK_91PAA4n"
      },
      "execution_count": null,
      "outputs": []
    },
    {
      "cell_type": "markdown",
      "source": [],
      "metadata": {
        "id": "Y4flN0qtCXKs"
      }
    },
    {
      "cell_type": "code",
      "source": [
        "corr = df.corr()\n",
        "sns.heatmap(corr,annot= True)"
      ],
      "metadata": {
        "id": "tJEzlP9z9omq"
      },
      "execution_count": null,
      "outputs": []
    },
    {
      "cell_type": "markdown",
      "source": [
        "- Duration is highly correlated with target variable "
      ],
      "metadata": {
        "id": "ROGEtgIZAOp6"
      }
    },
    {
      "cell_type": "markdown",
      "source": [
        "# Data preprocessing"
      ],
      "metadata": {
        "id": "aD7dB7tQHF1L"
      }
    },
    {
      "cell_type": "code",
      "source": [
        "from sklearn.preprocessing import LabelEncoder\n",
        "le=LabelEncoder()\n",
        "df[\"airline\"]=le.fit_transform(df[\"airline\"])\n",
        "df[\"source_city\"]=le.fit_transform(df[\"source_city\"])\n",
        "df[\"departure_time\"]=le.fit_transform(df[\"departure_time\"])\n",
        "df[\"arrival_time\"]=le.fit_transform(df[\"arrival_time\"])\n",
        "df[\"destination_city\"]=le.fit_transform(df[\"destination_city\"])\n",
        "df[\"class\"]=le.fit_transform(df[\"class\"])"
      ],
      "metadata": {
        "id": "1vmpRI3jCKur"
      },
      "execution_count": null,
      "outputs": []
    },
    {
      "cell_type": "code",
      "source": [
        "df = df.drop(columns='flight')"
      ],
      "metadata": {
        "id": "jsY2hX4PDsJ3"
      },
      "execution_count": null,
      "outputs": []
    },
    {
      "cell_type": "code",
      "source": [
        "df= df.drop(columns='stops')"
      ],
      "metadata": {
        "id": "pgFNKp2jEuhI"
      },
      "execution_count": null,
      "outputs": []
    },
    {
      "cell_type": "code",
      "source": [
        "X = df.drop(columns=[\"price\"])\n",
        "y = df['price'] "
      ],
      "metadata": {
        "id": "fwjWCm4ED2ix"
      },
      "execution_count": null,
      "outputs": []
    },
    {
      "cell_type": "code",
      "source": [
        "from sklearn.model_selection import train_test_split"
      ],
      "metadata": {
        "id": "bF49MblxD616"
      },
      "execution_count": null,
      "outputs": []
    },
    {
      "cell_type": "code",
      "source": [
        "x_train,x_test,y_train,y_test=train_test_split(X,y,test_size=0.2,random_state=42)"
      ],
      "metadata": {
        "id": "kqKAGNicECwS"
      },
      "execution_count": null,
      "outputs": []
    },
    {
      "cell_type": "code",
      "source": [
        "from sklearn.preprocessing import StandardScaler"
      ],
      "metadata": {
        "id": "DCczGGbzEHXf"
      },
      "execution_count": null,
      "outputs": []
    },
    {
      "cell_type": "code",
      "source": [
        "sc = StandardScaler()"
      ],
      "metadata": {
        "id": "_iQpdGjpEK0r"
      },
      "execution_count": null,
      "outputs": []
    },
    {
      "cell_type": "code",
      "source": [
        "x_train = sc.fit_transform(x_train)\n",
        "x_test = sc.transform(x_test)"
      ],
      "metadata": {
        "id": "esa0ImY_EOUn"
      },
      "execution_count": null,
      "outputs": []
    },
    {
      "cell_type": "markdown",
      "source": [
        "# Model Building"
      ],
      "metadata": {
        "id": "jGLZ6YDoHOFw"
      }
    },
    {
      "cell_type": "markdown",
      "source": [
        "**LinearRegression**\n"
      ],
      "metadata": {
        "id": "aoMlQoKzHUhs"
      }
    },
    {
      "cell_type": "code",
      "source": [
        "from sklearn.linear_model import LinearRegression"
      ],
      "metadata": {
        "id": "v1BsRVqQEeLC"
      },
      "execution_count": null,
      "outputs": []
    },
    {
      "cell_type": "code",
      "source": [
        "lr = LinearRegression()"
      ],
      "metadata": {
        "id": "N0-PrjFCFCgz"
      },
      "execution_count": null,
      "outputs": []
    },
    {
      "cell_type": "code",
      "source": [
        "lr.fit(x_train,y_train)"
      ],
      "metadata": {
        "id": "yhmT5Na1FFjk"
      },
      "execution_count": null,
      "outputs": []
    },
    {
      "cell_type": "code",
      "source": [
        "y_pred = lr.predict(x_test)\n",
        "y_pred"
      ],
      "metadata": {
        "id": "vEXHIq4wFLdG"
      },
      "execution_count": null,
      "outputs": []
    },
    {
      "cell_type": "code",
      "source": [
        "from sklearn.metrics import r2_score"
      ],
      "metadata": {
        "id": "3XLiHNWfFS0n"
      },
      "execution_count": null,
      "outputs": []
    },
    {
      "cell_type": "code",
      "source": [
        "r2_score(y_test,y_pred)"
      ],
      "metadata": {
        "id": "iCDzkdniFb4M"
      },
      "execution_count": null,
      "outputs": []
    },
    {
      "cell_type": "code",
      "source": [
        "from sklearn.metrics import mean_absolute_percentage_error\n",
        "mean_absolute_percentage_error(y_test, y_pred)"
      ],
      "metadata": {
        "id": "x8tikPCfF_88"
      },
      "execution_count": null,
      "outputs": []
    },
    {
      "cell_type": "markdown",
      "source": [
        "DecisionTreeRegressor"
      ],
      "metadata": {
        "id": "qf1dVrbsHmD5"
      }
    },
    {
      "cell_type": "code",
      "source": [
        "from sklearn.tree import DecisionTreeRegressor"
      ],
      "metadata": {
        "id": "gMyhHwsKF0sz"
      },
      "execution_count": null,
      "outputs": []
    },
    {
      "cell_type": "code",
      "source": [
        "dt=DecisionTreeRegressor()\n",
        "dt.fit(x_train,y_train)\n",
        "y_pred=dt.predict(x_test)\n",
        "r2_score(y_test,y_pred)"
      ],
      "metadata": {
        "id": "EaizOWBfGGPV"
      },
      "execution_count": null,
      "outputs": []
    },
    {
      "cell_type": "code",
      "source": [
        "from sklearn.ensemble import RandomForestRegressor\n",
        "rfr=RandomForestRegressor()\n",
        "rfr.fit(x_train,y_train)\n",
        "y_pred=rfr.predict(x_test)\n",
        "r2_score(y_test,y_pred)"
      ],
      "metadata": {
        "id": "ny3pt_vEHs7X"
      },
      "execution_count": null,
      "outputs": []
    },
    {
      "cell_type": "markdown",
      "source": [
        "- RandomForestRegressor gives 98 % accuracy  "
      ],
      "metadata": {
        "id": "saF7s-KfIDwY"
      }
    }
  ]
}